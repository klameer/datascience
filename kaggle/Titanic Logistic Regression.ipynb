{
 "metadata": {
  "name": "",
  "signature": "sha256:3fc86a227198dda47ce79412700b54ba61961a223303e16006b5586c744bd7e0"
 },
 "nbformat": 3,
 "nbformat_minor": 0,
 "worksheets": [
  {
   "cells": [
    {
     "cell_type": "code",
     "collapsed": false,
     "input": [
      "import pandas as pd\n",
      "import numpy as np\n",
      "from patsy import dmatrices\n",
      "import statsmodels.api as sm"
     ],
     "language": "python",
     "metadata": {},
     "outputs": []
    },
    {
     "cell_type": "code",
     "collapsed": false,
     "input": [
      "train_path = \"train.csv\"\n",
      "test_path = \"test.csv\"\n",
      "\n",
      "test_data = pd.read_csv(test_path)\n",
      "train_data = pd.read_csv(train_path)"
     ],
     "language": "python",
     "metadata": {},
     "outputs": [],
     "prompt_number": 26
    },
    {
     "cell_type": "code",
     "collapsed": false,
     "input": [
      "#Cleaning the data\n",
      "#Cleaning Age\n",
      "\n",
      "#Use the same median ages as the train data as the dataset is larger\n",
      "median_ages = np.zeros(3)\n",
      "for i in range(1,4):\n",
      "    median_ages[i-1] = train_data[train_data[\"Pclass\"] == i][\"Age\"].dropna().median()\n",
      "\n",
      "for i in range(1,4):\n",
      "    train_data.loc[(train_data[\"Age\"].isnull()) & (train_data[\"Pclass\"] == i), \"Age\"] = median_ages[i-1]\n",
      "    test_data.loc[(test_data[\"Age\"].isnull()) & (test_data[\"Pclass\"] == i), \"Age\"] = median_ages[i-1]\n",
      "\n",
      "train_data_final = train_data[[\"Survived\", \"Pclass\", \"Sex\", \"Age\", \"SibSp\", \"Parch\"]]\n",
      "test_data_final = test_data[[\"Pclass\", \"Sex\", \"Age\", \"SibSp\", \"Parch\"]]\n",
      "test_data_final[\"Survived\"] = 1"
     ],
     "language": "python",
     "metadata": {},
     "outputs": [
      {
       "html": [
        "<pre>\n",
        "&ltclass 'pandas.core.frame.DataFrame'&gt\n",
        "Int64Index: 0 entries\n",
        "Data columns (total 11 columns):\n",
        "PassengerId    0  non-null values\n",
        "Pclass         0  non-null values\n",
        "Name           0  non-null values\n",
        "Sex            0  non-null values\n",
        "Age            0  non-null values\n",
        "SibSp          0  non-null values\n",
        "Parch          0  non-null values\n",
        "Ticket         0  non-null values\n",
        "Fare           0  non-null values\n",
        "Cabin          0  non-null values\n",
        "Embarked       0  non-null values\n",
        "dtypes: float64(2), int64(4), object(5)\n",
        "</pre>"
       ],
       "metadata": {},
       "output_type": "pyout",
       "prompt_number": 29,
       "text": [
        "Empty DataFrame\n",
        "Columns: [PassengerId, Pclass, Name, Sex, Age, SibSp, Parch, Ticket, Fare, Cabin, Embarked]\n",
        "Index: []"
       ]
      }
     ],
     "prompt_number": 29
    },
    {
     "cell_type": "code",
     "collapsed": false,
     "input": [
      "train_path"
     ],
     "language": "python",
     "metadata": {},
     "outputs": [
      {
       "metadata": {},
       "output_type": "pyout",
       "prompt_number": 4,
       "text": [
        "'train.csv'"
       ]
      }
     ],
     "prompt_number": 4
    },
    {
     "cell_type": "code",
     "collapsed": false,
     "input": [
      "train_data"
     ],
     "language": "python",
     "metadata": {},
     "outputs": [
      {
       "html": [
        "<pre>\n",
        "&ltclass 'pandas.core.frame.DataFrame'&gt\n",
        "Int64Index: 891 entries, 0 to 890\n",
        "Data columns (total 12 columns):\n",
        "PassengerId    891  non-null values\n",
        "Survived       891  non-null values\n",
        "Pclass         891  non-null values\n",
        "Name           891  non-null values\n",
        "Sex            891  non-null values\n",
        "Age            714  non-null values\n",
        "SibSp          891  non-null values\n",
        "Parch          891  non-null values\n",
        "Ticket         891  non-null values\n",
        "Fare           891  non-null values\n",
        "Cabin          204  non-null values\n",
        "Embarked       889  non-null values\n",
        "dtypes: float64(2), int64(5), object(5)\n",
        "</pre>"
       ],
       "metadata": {},
       "output_type": "pyout",
       "prompt_number": 5,
       "text": [
        "<class 'pandas.core.frame.DataFrame'>\n",
        "Int64Index: 891 entries, 0 to 890\n",
        "Data columns (total 12 columns):\n",
        "PassengerId    891  non-null values\n",
        "Survived       891  non-null values\n",
        "Pclass         891  non-null values\n",
        "Name           891  non-null values\n",
        "Sex            891  non-null values\n",
        "Age            714  non-null values\n",
        "SibSp          891  non-null values\n",
        "Parch          891  non-null values\n",
        "Ticket         891  non-null values\n",
        "Fare           891  non-null values\n",
        "Cabin          204  non-null values\n",
        "Embarked       889  non-null values\n",
        "dtypes: float64(2), int64(5), object(5)"
       ]
      }
     ],
     "prompt_number": 5
    },
    {
     "cell_type": "code",
     "collapsed": false,
     "input": [
      "columns_to_keep = [\"Survived\", \"Pclass\", \"Sex\", \"Age\", \"SibSp\", \"Parch\"]"
     ],
     "language": "python",
     "metadata": {},
     "outputs": [],
     "prompt_number": 6
    },
    {
     "cell_type": "code",
     "collapsed": false,
     "input": [
      "train_data_final = train_data[columns_to_keep]"
     ],
     "language": "python",
     "metadata": {},
     "outputs": [],
     "prompt_number": 7
    },
    {
     "cell_type": "code",
     "collapsed": false,
     "input": [
      "train_data_final\n"
     ],
     "language": "python",
     "metadata": {},
     "outputs": [
      {
       "html": [
        "<pre>\n",
        "&ltclass 'pandas.core.frame.DataFrame'&gt\n",
        "Int64Index: 891 entries, 0 to 890\n",
        "Data columns (total 6 columns):\n",
        "Survived    891  non-null values\n",
        "Pclass      891  non-null values\n",
        "Sex         891  non-null values\n",
        "Age         714  non-null values\n",
        "SibSp       891  non-null values\n",
        "Parch       891  non-null values\n",
        "dtypes: float64(1), int64(4), object(1)\n",
        "</pre>"
       ],
       "metadata": {},
       "output_type": "pyout",
       "prompt_number": 8,
       "text": [
        "<class 'pandas.core.frame.DataFrame'>\n",
        "Int64Index: 891 entries, 0 to 890\n",
        "Data columns (total 6 columns):\n",
        "Survived    891  non-null values\n",
        "Pclass      891  non-null values\n",
        "Sex         891  non-null values\n",
        "Age         714  non-null values\n",
        "SibSp       891  non-null values\n",
        "Parch       891  non-null values\n",
        "dtypes: float64(1), int64(4), object(1)"
       ]
      }
     ],
     "prompt_number": 8
    },
    {
     "cell_type": "code",
     "collapsed": false,
     "input": [
      "train_data_final = train_data[[\"Survived\", \"Pclass\", \"Sex\", \"Age\", \"SibSp\", \"Parch\"]]\n",
      "test_data_final = test_data[[\"Pclass\", \"Sex\", \"Age\", \"SibSp\", \"Parch\"]]"
     ],
     "language": "python",
     "metadata": {},
     "outputs": [],
     "prompt_number": 10
    },
    {
     "cell_type": "code",
     "collapsed": false,
     "input": [
      "print np.unique[train_df.Pclass]"
     ],
     "language": "python",
     "metadata": {},
     "outputs": [
      {
       "ename": "NameError",
       "evalue": "name 'train_df' is not defined",
       "output_type": "pyerr",
       "traceback": [
        "\u001b[1;31m---------------------------------------------------------------------------\u001b[0m\n\u001b[1;31mNameError\u001b[0m                                 Traceback (most recent call last)",
        "\u001b[1;32m<ipython-input-11-d3718b60772e>\u001b[0m in \u001b[0;36m<module>\u001b[1;34m()\u001b[0m\n\u001b[1;32m----> 1\u001b[1;33m \u001b[1;32mprint\u001b[0m \u001b[0mnp\u001b[0m\u001b[1;33m.\u001b[0m\u001b[0munique\u001b[0m\u001b[1;33m[\u001b[0m\u001b[0mtrain_df\u001b[0m\u001b[1;33m.\u001b[0m\u001b[0mPclass\u001b[0m\u001b[1;33m]\u001b[0m\u001b[1;33m\u001b[0m\u001b[0m\n\u001b[0m",
        "\u001b[1;31mNameError\u001b[0m: name 'train_df' is not defined"
       ]
      }
     ],
     "prompt_number": 11
    }
   ],
   "metadata": {}
  }
 ]
}