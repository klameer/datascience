{
 "metadata": {
  "name": "",
  "signature": "sha256:d0724df982f056e3093df864fa514f1870044ba80c9780b0aabb8c74f921a63f"
 },
 "nbformat": 3,
 "nbformat_minor": 0,
 "worksheets": [
  {
   "cells": [
    {
     "cell_type": "code",
     "collapsed": false,
     "input": [
      "from ggplot import *"
     ],
     "language": "python",
     "metadata": {},
     "outputs": [],
     "prompt_number": 74
    },
    {
     "cell_type": "code",
     "collapsed": false,
     "input": [
      "diamonds.describe"
     ],
     "language": "python",
     "metadata": {},
     "outputs": [
      {
       "metadata": {},
       "output_type": "pyout",
       "prompt_number": 75,
       "text": [
        "<bound method DataFrame.describe of <class 'pandas.core.frame.DataFrame'>\n",
        "Int64Index: 53940 entries, 0 to 53939\n",
        "Data columns (total 10 columns):\n",
        "carat      53940  non-null values\n",
        "cut        53940  non-null values\n",
        "color      53940  non-null values\n",
        "clarity    53940  non-null values\n",
        "depth      53940  non-null values\n",
        "table      53940  non-null values\n",
        "price      53940  non-null values\n",
        "x          53940  non-null values\n",
        "y          53940  non-null values\n",
        "z          53940  non-null values\n",
        "dtypes: float64(6), int64(1), object(3)>"
       ]
      }
     ],
     "prompt_number": 75
    },
    {
     "cell_type": "code",
     "collapsed": false,
     "input": [
      "from os import getcwd\n",
      "getcwd()"
     ],
     "language": "python",
     "metadata": {},
     "outputs": [
      {
       "metadata": {},
       "output_type": "pyout",
       "prompt_number": 1,
       "text": [
        "'C:\\\\Users\\\\Karim\\\\Documents\\\\Data_Science'"
       ]
      }
     ],
     "prompt_number": 1
    },
    {
     "cell_type": "code",
     "collapsed": false,
     "input": [],
     "language": "python",
     "metadata": {},
     "outputs": []
    }
   ],
   "metadata": {}
  }
 ]
}