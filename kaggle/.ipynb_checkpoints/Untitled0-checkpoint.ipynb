{
 "metadata": {
  "name": "",
  "signature": "sha256:b9df75f8385627bc0e8bf8858c5a4add9a92b11f8eb69afe4c1c817e89e433d3"
 },
 "nbformat": 3,
 "nbformat_minor": 0,
 "worksheets": []
}